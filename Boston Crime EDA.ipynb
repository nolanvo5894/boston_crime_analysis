{
 "cells": [
  {
   "cell_type": "code",
   "execution_count": 9,
   "metadata": {},
   "outputs": [],
   "source": [
    "import pandas as pd\n",
    "import numpy as np\n",
    "import matplotlib.pyplot as plt\n",
    "import seaborn as sns"
   ]
  },
  {
   "cell_type": "code",
   "execution_count": 10,
   "metadata": {},
   "outputs": [],
   "source": [
    "%matplotlib inline"
   ]
  },
  {
   "cell_type": "code",
   "execution_count": 11,
   "metadata": {},
   "outputs": [],
   "source": [
    "import warnings\n",
    "warnings.filterwarnings('ignore')"
   ]
  },
  {
   "cell_type": "code",
   "execution_count": 12,
   "metadata": {},
   "outputs": [],
   "source": [
    "crime = pd.read_csv('boston_crime.csv')"
   ]
  },
  {
   "cell_type": "code",
   "execution_count": 13,
   "metadata": {},
   "outputs": [
    {
     "data": {
      "text/html": [
       "<div>\n",
       "<style scoped>\n",
       "    .dataframe tbody tr th:only-of-type {\n",
       "        vertical-align: middle;\n",
       "    }\n",
       "\n",
       "    .dataframe tbody tr th {\n",
       "        vertical-align: top;\n",
       "    }\n",
       "\n",
       "    .dataframe thead th {\n",
       "        text-align: right;\n",
       "    }\n",
       "</style>\n",
       "<table border=\"1\" class=\"dataframe\">\n",
       "  <thead>\n",
       "    <tr style=\"text-align: right;\">\n",
       "      <th></th>\n",
       "      <th>INCIDENT_NUMBER</th>\n",
       "      <th>OFFENSE_CODE</th>\n",
       "      <th>OFFENSE_CODE_GROUP</th>\n",
       "      <th>OFFENSE_DESCRIPTION</th>\n",
       "      <th>DISTRICT</th>\n",
       "      <th>REPORTING_AREA</th>\n",
       "      <th>SHOOTING</th>\n",
       "      <th>OCCURRED_ON_DATE</th>\n",
       "      <th>YEAR</th>\n",
       "      <th>MONTH</th>\n",
       "      <th>DAY_OF_WEEK</th>\n",
       "      <th>HOUR</th>\n",
       "      <th>UCR_PART</th>\n",
       "      <th>STREET</th>\n",
       "      <th>Lat</th>\n",
       "      <th>Long</th>\n",
       "      <th>Location</th>\n",
       "    </tr>\n",
       "  </thead>\n",
       "  <tbody>\n",
       "    <tr>\n",
       "      <th>0</th>\n",
       "      <td>I192028175</td>\n",
       "      <td>3831</td>\n",
       "      <td>Motor Vehicle Accident Response</td>\n",
       "      <td>M/V - LEAVING SCENE - PROPERTY DAMAGE</td>\n",
       "      <td>E5</td>\n",
       "      <td>717</td>\n",
       "      <td>NaN</td>\n",
       "      <td>2019-04-14 16:00:00</td>\n",
       "      <td>2019</td>\n",
       "      <td>4</td>\n",
       "      <td>Sunday</td>\n",
       "      <td>16</td>\n",
       "      <td>Part Three</td>\n",
       "      <td>CENTRE LN</td>\n",
       "      <td>42.270945</td>\n",
       "      <td>-71.160865</td>\n",
       "      <td>(42.27094455, -71.16086461)</td>\n",
       "    </tr>\n",
       "    <tr>\n",
       "      <th>1</th>\n",
       "      <td>I192028168</td>\n",
       "      <td>3410</td>\n",
       "      <td>Towed</td>\n",
       "      <td>TOWED MOTOR VEHICLE</td>\n",
       "      <td>C11</td>\n",
       "      <td>340</td>\n",
       "      <td>NaN</td>\n",
       "      <td>2019-04-16 20:25:00</td>\n",
       "      <td>2019</td>\n",
       "      <td>4</td>\n",
       "      <td>Tuesday</td>\n",
       "      <td>20</td>\n",
       "      <td>Part Three</td>\n",
       "      <td>DRAPER ST</td>\n",
       "      <td>42.305407</td>\n",
       "      <td>-71.065471</td>\n",
       "      <td>(42.30540715, -71.06547135)</td>\n",
       "    </tr>\n",
       "    <tr>\n",
       "      <th>2</th>\n",
       "      <td>I192028167</td>\n",
       "      <td>3006</td>\n",
       "      <td>Medical Assistance</td>\n",
       "      <td>SICK/INJURED/MEDICAL - PERSON</td>\n",
       "      <td>B3</td>\n",
       "      <td>459</td>\n",
       "      <td>NaN</td>\n",
       "      <td>2019-04-16 20:57:00</td>\n",
       "      <td>2019</td>\n",
       "      <td>4</td>\n",
       "      <td>Tuesday</td>\n",
       "      <td>20</td>\n",
       "      <td>Part Three</td>\n",
       "      <td>GLENARM ST</td>\n",
       "      <td>42.304385</td>\n",
       "      <td>-71.079945</td>\n",
       "      <td>(42.30438536, -71.07994459)</td>\n",
       "    </tr>\n",
       "    <tr>\n",
       "      <th>3</th>\n",
       "      <td>I192028166</td>\n",
       "      <td>413</td>\n",
       "      <td>Aggravated Assault</td>\n",
       "      <td>ASSAULT - AGGRAVATED - BATTERY</td>\n",
       "      <td>B2</td>\n",
       "      <td>291</td>\n",
       "      <td>NaN</td>\n",
       "      <td>2019-04-16 20:52:00</td>\n",
       "      <td>2019</td>\n",
       "      <td>4</td>\n",
       "      <td>Tuesday</td>\n",
       "      <td>20</td>\n",
       "      <td>Part One</td>\n",
       "      <td>CENTRE ST</td>\n",
       "      <td>42.329554</td>\n",
       "      <td>-71.093574</td>\n",
       "      <td>(42.32955354, -71.09357444)</td>\n",
       "    </tr>\n",
       "    <tr>\n",
       "      <th>4</th>\n",
       "      <td>I192028166</td>\n",
       "      <td>802</td>\n",
       "      <td>Simple Assault</td>\n",
       "      <td>ASSAULT SIMPLE - BATTERY</td>\n",
       "      <td>B2</td>\n",
       "      <td>291</td>\n",
       "      <td>NaN</td>\n",
       "      <td>2019-04-16 20:52:00</td>\n",
       "      <td>2019</td>\n",
       "      <td>4</td>\n",
       "      <td>Tuesday</td>\n",
       "      <td>20</td>\n",
       "      <td>Part Two</td>\n",
       "      <td>CENTRE ST</td>\n",
       "      <td>42.329554</td>\n",
       "      <td>-71.093574</td>\n",
       "      <td>(42.32955354, -71.09357444)</td>\n",
       "    </tr>\n",
       "  </tbody>\n",
       "</table>\n",
       "</div>"
      ],
      "text/plain": [
       "  INCIDENT_NUMBER  OFFENSE_CODE               OFFENSE_CODE_GROUP  \\\n",
       "0      I192028175          3831  Motor Vehicle Accident Response   \n",
       "1      I192028168          3410                            Towed   \n",
       "2      I192028167          3006               Medical Assistance   \n",
       "3      I192028166           413               Aggravated Assault   \n",
       "4      I192028166           802                   Simple Assault   \n",
       "\n",
       "                     OFFENSE_DESCRIPTION DISTRICT REPORTING_AREA SHOOTING  \\\n",
       "0  M/V - LEAVING SCENE - PROPERTY DAMAGE       E5            717      NaN   \n",
       "1                    TOWED MOTOR VEHICLE      C11            340      NaN   \n",
       "2          SICK/INJURED/MEDICAL - PERSON       B3            459      NaN   \n",
       "3         ASSAULT - AGGRAVATED - BATTERY       B2            291      NaN   \n",
       "4               ASSAULT SIMPLE - BATTERY       B2            291      NaN   \n",
       "\n",
       "      OCCURRED_ON_DATE  YEAR  MONTH DAY_OF_WEEK  HOUR    UCR_PART      STREET  \\\n",
       "0  2019-04-14 16:00:00  2019      4      Sunday    16  Part Three   CENTRE LN   \n",
       "1  2019-04-16 20:25:00  2019      4     Tuesday    20  Part Three   DRAPER ST   \n",
       "2  2019-04-16 20:57:00  2019      4     Tuesday    20  Part Three  GLENARM ST   \n",
       "3  2019-04-16 20:52:00  2019      4     Tuesday    20    Part One   CENTRE ST   \n",
       "4  2019-04-16 20:52:00  2019      4     Tuesday    20    Part Two   CENTRE ST   \n",
       "\n",
       "         Lat       Long                     Location  \n",
       "0  42.270945 -71.160865  (42.27094455, -71.16086461)  \n",
       "1  42.305407 -71.065471  (42.30540715, -71.06547135)  \n",
       "2  42.304385 -71.079945  (42.30438536, -71.07994459)  \n",
       "3  42.329554 -71.093574  (42.32955354, -71.09357444)  \n",
       "4  42.329554 -71.093574  (42.32955354, -71.09357444)  "
      ]
     },
     "execution_count": 13,
     "metadata": {},
     "output_type": "execute_result"
    }
   ],
   "source": [
    "crime.head()"
   ]
  },
  {
   "cell_type": "code",
   "execution_count": 6,
   "metadata": {},
   "outputs": [
    {
     "name": "stdout",
     "output_type": "stream",
     "text": [
      "<class 'pandas.core.frame.DataFrame'>\n",
      "RangeIndex: 378524 entries, 0 to 378523\n",
      "Data columns (total 17 columns):\n",
      "INCIDENT_NUMBER        378524 non-null object\n",
      "OFFENSE_CODE           378524 non-null int64\n",
      "OFFENSE_CODE_GROUP     378524 non-null object\n",
      "OFFENSE_DESCRIPTION    378524 non-null object\n",
      "DISTRICT               376528 non-null object\n",
      "REPORTING_AREA         378524 non-null object\n",
      "SHOOTING               1521 non-null object\n",
      "OCCURRED_ON_DATE       378524 non-null object\n",
      "YEAR                   378524 non-null int64\n",
      "MONTH                  378524 non-null int64\n",
      "DAY_OF_WEEK            378524 non-null object\n",
      "HOUR                   378524 non-null int64\n",
      "UCR_PART               378425 non-null object\n",
      "STREET                 366888 non-null object\n",
      "Lat                    354784 non-null float64\n",
      "Long                   354784 non-null float64\n",
      "Location               378524 non-null object\n",
      "dtypes: float64(2), int64(4), object(11)\n",
      "memory usage: 49.1+ MB\n"
     ]
    }
   ],
   "source": [
    "crime.info()"
   ]
  },
  {
   "cell_type": "code",
   "execution_count": null,
   "metadata": {},
   "outputs": [],
   "source": [
    "crime_short = crime[['OFFENSE_CODE', 'OFFENSE_CODE_GROUP',\n",
    "       'OFFENSE_DESCRIPTION', 'REPORTING_AREA', 'SHOOTING',\n",
    "       'OCCURRED_ON_DATE', 'YEAR', 'MONTH', 'DAY_OF_WEEK', 'HOUR']]"
   ]
  },
  {
   "cell_type": "code",
   "execution_count": null,
   "metadata": {},
   "outputs": [],
   "source": [
    "crime_short['SHOOTING'].replace(np.nan, 0, inplace = True)"
   ]
  },
  {
   "cell_type": "code",
   "execution_count": null,
   "metadata": {},
   "outputs": [],
   "source": [
    "crime_short.to_csv('crime_short.csv', index = False)"
   ]
  },
  {
   "cell_type": "code",
   "execution_count": null,
   "metadata": {},
   "outputs": [],
   "source": [
    "crime_short.head()"
   ]
  },
  {
   "cell_type": "code",
   "execution_count": null,
   "metadata": {},
   "outputs": [],
   "source": [
    "crime_short.info()"
   ]
  },
  {
   "cell_type": "code",
   "execution_count": null,
   "metadata": {},
   "outputs": [],
   "source": [
    "crime_short['OCCURRED_ON_DATE'].nunique()"
   ]
  },
  {
   "cell_type": "code",
   "execution_count": null,
   "metadata": {},
   "outputs": [],
   "source": [
    "def get_column_nunique(df):\n",
    "    for column in df.columns:\n",
    "        print(f'{column} has {df[column].nunique()} unique values')\n",
    "    return"
   ]
  },
  {
   "cell_type": "code",
   "execution_count": null,
   "metadata": {},
   "outputs": [],
   "source": [
    "get_column_nunique(crime_short)"
   ]
  },
  {
   "cell_type": "code",
   "execution_count": 15,
   "metadata": {},
   "outputs": [],
   "source": [
    "crime_find_district = crime[crime['DISTRICT'].isnull()]"
   ]
  },
  {
   "cell_type": "code",
   "execution_count": 7,
   "metadata": {},
   "outputs": [],
   "source": [
    "from geopy.geocoders import Nominatim"
   ]
  },
  {
   "cell_type": "code",
   "execution_count": 17,
   "metadata": {},
   "outputs": [],
   "source": [
    "def find_neighborhood(lat_long, geolocator):\n",
    "    try:\n",
    "        \n",
    "        location = geolocator.reverse(lat_long.strip('(').strip(')'))\n",
    "        return location.raw['address']['neighbourhood']\n",
    "    except:\n",
    "        return 'check'"
   ]
  },
  {
   "cell_type": "code",
   "execution_count": 18,
   "metadata": {},
   "outputs": [],
   "source": [
    "geolocator = Nominatim()\n",
    "crime_find_district['Neighborhood'] = crime_find_district['Location'].apply(lambda x: find_neighborhood(x, geolocator))"
   ]
  },
  {
   "cell_type": "code",
   "execution_count": 19,
   "metadata": {},
   "outputs": [],
   "source": [
    "crime_district = crime[~crime['DISTRICT'].isnull()]\n",
    "crime_district = crime_district[['OFFENSE_CODE','OFFENSE_CODE_GROUP','DISTRICT','OCCURRED_ON_DATE','DAY_OF_WEEK','HOUR']]"
   ]
  },
  {
   "cell_type": "code",
   "execution_count": 20,
   "metadata": {},
   "outputs": [],
   "source": [
    "crime_district['OCCURRED_ON_DATE'] = pd.to_datetime(crime_district['OCCURRED_ON_DATE'])\n",
    "crime_district['DATE'] = crime_district['OCCURRED_ON_DATE'].apply(lambda date:date.date())\n",
    "crime_district['DATE_HOUR'] = crime_district['OCCURRED_ON_DATE'].apply(lambda date:date.ceil('H'))"
   ]
  },
  {
   "cell_type": "code",
   "execution_count": 21,
   "metadata": {},
   "outputs": [],
   "source": [
    "crime_district.to_csv('crime_district.csv', index = False)"
   ]
  },
  {
   "cell_type": "code",
   "execution_count": null,
   "metadata": {},
   "outputs": [],
   "source": []
  }
 ],
 "metadata": {
  "kernelspec": {
   "display_name": "Python 3",
   "language": "python",
   "name": "python3"
  },
  "language_info": {
   "codemirror_mode": {
    "name": "ipython",
    "version": 3
   },
   "file_extension": ".py",
   "mimetype": "text/x-python",
   "name": "python",
   "nbconvert_exporter": "python",
   "pygments_lexer": "ipython3",
   "version": "3.7.1"
  }
 },
 "nbformat": 4,
 "nbformat_minor": 2
}
