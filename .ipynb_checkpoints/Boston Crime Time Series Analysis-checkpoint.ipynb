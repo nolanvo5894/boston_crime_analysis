{
 "cells": [
  {
   "cell_type": "code",
   "execution_count": 1,
   "metadata": {},
   "outputs": [],
   "source": [
    "import pandas as pd\n",
    "import numpy as np\n",
    "import matplotlib.pyplot as plt\n",
    "import seaborn as sns\n",
    "%matplotlib inline"
   ]
  },
  {
   "cell_type": "markdown",
   "metadata": {},
   "source": [
    "Predicting the number of crimes for the next day for the entire city. The next step is to predict the reporting areas with the highest predicted number of crime for a day in the future."
   ]
  },
  {
   "cell_type": "code",
   "execution_count": 2,
   "metadata": {},
   "outputs": [],
   "source": [
    "crime_short = pd.read_csv('crime_short.csv')"
   ]
  },
  {
   "cell_type": "code",
   "execution_count": 3,
   "metadata": {},
   "outputs": [
    {
     "data": {
      "text/html": [
       "<div>\n",
       "<style scoped>\n",
       "    .dataframe tbody tr th:only-of-type {\n",
       "        vertical-align: middle;\n",
       "    }\n",
       "\n",
       "    .dataframe tbody tr th {\n",
       "        vertical-align: top;\n",
       "    }\n",
       "\n",
       "    .dataframe thead th {\n",
       "        text-align: right;\n",
       "    }\n",
       "</style>\n",
       "<table border=\"1\" class=\"dataframe\">\n",
       "  <thead>\n",
       "    <tr style=\"text-align: right;\">\n",
       "      <th></th>\n",
       "      <th>OFFENSE_CODE</th>\n",
       "      <th>OFFENSE_CODE_GROUP</th>\n",
       "      <th>OFFENSE_DESCRIPTION</th>\n",
       "      <th>REPORTING_AREA</th>\n",
       "      <th>SHOOTING</th>\n",
       "      <th>OCCURRED_ON_DATE</th>\n",
       "      <th>YEAR</th>\n",
       "      <th>MONTH</th>\n",
       "      <th>DAY_OF_WEEK</th>\n",
       "      <th>HOUR</th>\n",
       "    </tr>\n",
       "  </thead>\n",
       "  <tbody>\n",
       "    <tr>\n",
       "      <th>0</th>\n",
       "      <td>3831</td>\n",
       "      <td>Motor Vehicle Accident Response</td>\n",
       "      <td>M/V - LEAVING SCENE - PROPERTY DAMAGE</td>\n",
       "      <td>717</td>\n",
       "      <td>0</td>\n",
       "      <td>2019-04-14 16:00:00</td>\n",
       "      <td>2019</td>\n",
       "      <td>4</td>\n",
       "      <td>Sunday</td>\n",
       "      <td>16</td>\n",
       "    </tr>\n",
       "    <tr>\n",
       "      <th>1</th>\n",
       "      <td>3410</td>\n",
       "      <td>Towed</td>\n",
       "      <td>TOWED MOTOR VEHICLE</td>\n",
       "      <td>340</td>\n",
       "      <td>0</td>\n",
       "      <td>2019-04-16 20:25:00</td>\n",
       "      <td>2019</td>\n",
       "      <td>4</td>\n",
       "      <td>Tuesday</td>\n",
       "      <td>20</td>\n",
       "    </tr>\n",
       "    <tr>\n",
       "      <th>2</th>\n",
       "      <td>3006</td>\n",
       "      <td>Medical Assistance</td>\n",
       "      <td>SICK/INJURED/MEDICAL - PERSON</td>\n",
       "      <td>459</td>\n",
       "      <td>0</td>\n",
       "      <td>2019-04-16 20:57:00</td>\n",
       "      <td>2019</td>\n",
       "      <td>4</td>\n",
       "      <td>Tuesday</td>\n",
       "      <td>20</td>\n",
       "    </tr>\n",
       "    <tr>\n",
       "      <th>3</th>\n",
       "      <td>413</td>\n",
       "      <td>Aggravated Assault</td>\n",
       "      <td>ASSAULT - AGGRAVATED - BATTERY</td>\n",
       "      <td>291</td>\n",
       "      <td>0</td>\n",
       "      <td>2019-04-16 20:52:00</td>\n",
       "      <td>2019</td>\n",
       "      <td>4</td>\n",
       "      <td>Tuesday</td>\n",
       "      <td>20</td>\n",
       "    </tr>\n",
       "    <tr>\n",
       "      <th>4</th>\n",
       "      <td>802</td>\n",
       "      <td>Simple Assault</td>\n",
       "      <td>ASSAULT SIMPLE - BATTERY</td>\n",
       "      <td>291</td>\n",
       "      <td>0</td>\n",
       "      <td>2019-04-16 20:52:00</td>\n",
       "      <td>2019</td>\n",
       "      <td>4</td>\n",
       "      <td>Tuesday</td>\n",
       "      <td>20</td>\n",
       "    </tr>\n",
       "  </tbody>\n",
       "</table>\n",
       "</div>"
      ],
      "text/plain": [
       "   OFFENSE_CODE               OFFENSE_CODE_GROUP  \\\n",
       "0          3831  Motor Vehicle Accident Response   \n",
       "1          3410                            Towed   \n",
       "2          3006               Medical Assistance   \n",
       "3           413               Aggravated Assault   \n",
       "4           802                   Simple Assault   \n",
       "\n",
       "                     OFFENSE_DESCRIPTION REPORTING_AREA SHOOTING  \\\n",
       "0  M/V - LEAVING SCENE - PROPERTY DAMAGE            717        0   \n",
       "1                    TOWED MOTOR VEHICLE            340        0   \n",
       "2          SICK/INJURED/MEDICAL - PERSON            459        0   \n",
       "3         ASSAULT - AGGRAVATED - BATTERY            291        0   \n",
       "4               ASSAULT SIMPLE - BATTERY            291        0   \n",
       "\n",
       "      OCCURRED_ON_DATE  YEAR  MONTH DAY_OF_WEEK  HOUR  \n",
       "0  2019-04-14 16:00:00  2019      4      Sunday    16  \n",
       "1  2019-04-16 20:25:00  2019      4     Tuesday    20  \n",
       "2  2019-04-16 20:57:00  2019      4     Tuesday    20  \n",
       "3  2019-04-16 20:52:00  2019      4     Tuesday    20  \n",
       "4  2019-04-16 20:52:00  2019      4     Tuesday    20  "
      ]
     },
     "execution_count": 3,
     "metadata": {},
     "output_type": "execute_result"
    }
   ],
   "source": [
    "crime_short.head()"
   ]
  },
  {
   "cell_type": "code",
   "execution_count": 9,
   "metadata": {},
   "outputs": [],
   "source": [
    "crime_short['OCCURRED_ON_DATE'] = pd.to_datetime(crime_short['OCCURRED_ON_DATE'])"
   ]
  },
  {
   "cell_type": "code",
   "execution_count": 23,
   "metadata": {},
   "outputs": [],
   "source": [
    "crime_short['DATE'] = crime_short['OCCURRED_ON_DATE'].apply(lambda date:date.date())"
   ]
  },
  {
   "cell_type": "code",
   "execution_count": 26,
   "metadata": {},
   "outputs": [],
   "source": [
    "crime_time_series = crime_short.groupby('DATE').count()['OFFENSE_CODE']"
   ]
  },
  {
   "cell_type": "markdown",
   "metadata": {},
   "source": []
  }
 ],
 "metadata": {
  "kernelspec": {
   "display_name": "Python 3",
   "language": "python",
   "name": "python3"
  },
  "language_info": {
   "codemirror_mode": {
    "name": "ipython",
    "version": 3
   },
   "file_extension": ".py",
   "mimetype": "text/x-python",
   "name": "python",
   "nbconvert_exporter": "python",
   "pygments_lexer": "ipython3",
   "version": "3.7.1"
  }
 },
 "nbformat": 4,
 "nbformat_minor": 2
}
